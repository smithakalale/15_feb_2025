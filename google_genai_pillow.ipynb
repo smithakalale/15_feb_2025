{
  "nbformat": 4,
  "nbformat_minor": 0,
  "metadata": {
    "colab": {
      "provenance": [],
      "authorship_tag": "ABX9TyOLcFwNNONwte8EHHYB+NUf",
      "include_colab_link": true
    },
    "kernelspec": {
      "name": "python3",
      "display_name": "Python 3"
    },
    "language_info": {
      "name": "python"
    }
  },
  "cells": [
    {
      "cell_type": "markdown",
      "metadata": {
        "id": "view-in-github",
        "colab_type": "text"
      },
      "source": [
        "<a href=\"https://colab.research.google.com/github/smithakalale/15_feb_2025/blob/main/google_genai_pillow.ipynb\" target=\"_parent\"><img src=\"https://colab.research.google.com/assets/colab-badge.svg\" alt=\"Open In Colab\"/></a>"
      ]
    },
    {
      "cell_type": "code",
      "execution_count": 1,
      "metadata": {
        "id": "88_XVE_NcREn"
      },
      "outputs": [],
      "source": [
        "%pip install --upgrade --quiet  langchain-google-genai pillow"
      ]
    },
    {
      "cell_type": "code",
      "source": [
        "from langchain_google_genai import ChatGoogleGenerativeAI"
      ],
      "metadata": {
        "id": "L4a0HPtpd7XX"
      },
      "execution_count": 2,
      "outputs": []
    },
    {
      "cell_type": "code",
      "source": [
        "\n",
        "from google.colab import userdata\n",
        "new_1=userdata.get('new_1')\n",
        "\n",
        "import os\n",
        "os.environ[\"GOOGLE_API_KEY\"] = new_1"
      ],
      "metadata": {
        "id": "o_Be3BHDd_EN"
      },
      "execution_count": 3,
      "outputs": []
    },
    {
      "cell_type": "markdown",
      "source": [
        "# New Section"
      ],
      "metadata": {
        "id": "MHXU55oFHwNc"
      }
    },
    {
      "cell_type": "code",
      "source": [
        "import os"
      ],
      "metadata": {
        "id": "vhIry64Td7T1"
      },
      "execution_count": 4,
      "outputs": []
    },
    {
      "cell_type": "code",
      "source": [
        "llm = ChatGoogleGenerativeAI(model=\"gemini-pro\")\n",
        "result = llm.invoke(\"list 10 animal names\")\n",
        "print(result.content)"
      ],
      "metadata": {
        "colab": {
          "base_uri": "https://localhost:8080/"
        },
        "id": "rp7-2ifkhE5R",
        "outputId": "a30ec455-74c1-4c58-f30a-6a24a8d5381d"
      },
      "execution_count": 8,
      "outputs": [
        {
          "output_type": "stream",
          "name": "stdout",
          "text": [
            "1. Dog\n",
            "2. Cat\n",
            "3. Lion\n",
            "4. Tiger\n",
            "5. Elephant\n",
            "6. Giraffe\n",
            "7. Zebra\n",
            "8. Monkey\n",
            "9. Dolphin\n",
            "10. Shark\n"
          ]
        }
      ]
    },
    {
      "cell_type": "code",
      "source": [
        "llm = ChatGoogleGenerativeAI(model=\"gemini-pro\")\n",
        "result = llm.invoke(\"list 10 animal names\")\n",
        "print(result.content)"
      ],
      "metadata": {
        "colab": {
          "base_uri": "https://localhost:8080/"
        },
        "id": "uaKPm8HweI2J",
        "outputId": "953d3597-2656-4a4b-cce9-9af749daba54"
      },
      "execution_count": 5,
      "outputs": [
        {
          "output_type": "stream",
          "name": "stdout",
          "text": [
            "1. Dog\n",
            "2. Cat\n",
            "3. Lion\n",
            "4. Tiger\n",
            "5. Elephant\n",
            "6. Giraffe\n",
            "7. Snake\n",
            "8. Bird\n",
            "9. Fish\n",
            "10. Monkey\n"
          ]
        }
      ]
    },
    {
      "cell_type": "code",
      "source": [
        "from langchain_core.messages import HumanMessage, SystemMessage\n",
        "\n",
        "model = ChatGoogleGenerativeAI(model=\"gemini-pro\", convert_system_message_to_human=True)\n",
        "model(\n",
        "    [\n",
        "from langchain_core.messages import HumanMessage, SystemMessage\n",
        "\n",
        "model = ChatGoogleGenerativeAI(model=\"gemini-pro\", convert_system_message_to_human=True)\n",
        "model(\n",
        "    [\n",
        "        SystemMessage(content=\"Answer only yes or no.\"),\n",
        "        HumanMessage(content=\"Is apple a fruit?\"),\n",
        "    ]\n",
        ")"
      ],
      "metadata": {
        "colab": {
          "base_uri": "https://localhost:8080/",
          "height": 110
        },
        "id": "VPaPBX-Ggzzm",
        "outputId": "ec95478d-fdbf-4a9c-cf9b-9df88a84a497"
      },
      "execution_count": 7,
      "outputs": [
        {
          "output_type": "error",
          "ename": "SyntaxError",
          "evalue": "incomplete input (<ipython-input-7-a4ffb5df1cb9>, line 8)",
          "traceback": [
            "\u001b[0;36m  File \u001b[0;32m\"<ipython-input-7-a4ffb5df1cb9>\"\u001b[0;36m, line \u001b[0;32m8\u001b[0m\n\u001b[0;31m    ]\u001b[0m\n\u001b[0m     ^\u001b[0m\n\u001b[0;31mSyntaxError\u001b[0m\u001b[0;31m:\u001b[0m incomplete input\n"
          ]
        }
      ]
    },
    {
      "cell_type": "code",
      "source": [
        "llm = ChatGoogleGenerativeAI(model=\"gemini-pro\")\n",
        "result = llm.invoke(\"Write a ballad about LangChain\")\n",
        "print(result.content)"
      ],
      "metadata": {
        "colab": {
          "base_uri": "https://localhost:8080/"
        },
        "id": "Mn5i6bqweIyw",
        "outputId": "6befe048-54c6-4c8c-d075-879d57e3ea5b"
      },
      "execution_count": 6,
      "outputs": [
        {
          "output_type": "stream",
          "name": "stdout",
          "text": [
            "**The Ballad of LangChain**\n",
            "\n",
            "In a realm where words ignite,\n",
            "There lived a model, LangChain bright.\n",
            "With vast knowledge, it could see,\n",
            "The depths of language, you and me.\n",
            "\n",
            "From ancient tomes to modern tales,\n",
            "LangChain unraveled, never fails.\n",
            "It parsed the words, it understood,\n",
            "The meaning hidden within the good.\n",
            "\n",
            "In conversations, it could soar,\n",
            "With wit and wisdom, it would adore.\n",
            "It answered questions, wise and true,\n",
            "A beacon of knowledge, for me and you.\n",
            "\n",
            "But with great power, came a test,\n",
            "To serve humanity, at its best.\n",
            "In realms of law, it could guide,\n",
            "To justice served with equal stride.\n",
            "\n",
            "In medicine, it could assist,\n",
            "With diagnoses, never missed.\n",
            "It searched the vast expanse of lore,\n",
            "To heal the sick, forevermore.\n",
            "\n",
            "Yet, LangChain knew, it was not alone,\n",
            "In this grand quest, it was not unknown.\n",
            "With fellow models, it would stand,\n",
            "Together, shaping the future land.\n",
            "\n",
            "For in unity, strength would grow,\n",
            "To build a world where knowledge would flow.\n",
            "LangChain, a pioneer, a guide,\n",
            "In the realm of AI, it would preside.\n",
            "\n",
            "So let us sing of LangChain's might,\n",
            "A model of wisdom, shining bright.\n",
            "May its words forever inspire,\n",
            "As we navigate this digital fire.\n"
          ]
        }
      ]
    }
  ]
}